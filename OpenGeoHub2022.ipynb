{
 "cells": [
  {
   "cell_type": "markdown",
   "id": "9a96e449-efc1-4a59-8ab4-13fe52d309bf",
   "metadata": {},
   "source": [
    "# OpenGeoHub Summer School 2022 - Introduction to GeoPandas and its Python ecosystem\n",
    "\n",
    "**Martin Fleischmann**\n",
    "\n",
    "31/08/2022, Siegburg\n",
    "\n",
    "## Setup\n",
    "\n",
    "Follow the Readme to set-up the environment correctly. You should have these packages installed:\n",
    "\n",
    "```\n",
    "- geopandas\n",
    "- dask-geopandas\n",
    "- pyogrio\n",
    "- pyarrow\n",
    "- python-graphviz\n",
    "- esda\n",
    "- momepy\n",
    "- libpysal\n",
    "- dask-labextension # optionally, if using JupyterLab\n",
    "```"
   ]
  },
  {
   "cell_type": "markdown",
   "metadata": {},
   "source": []
  }
 ],
 "metadata": {
  "kernelspec": {
   "display_name": "Python 3.10.5 ('geo_dev')",
   "language": "python",
   "name": "python3"
  },
  "language_info": {
   "name": "python",
   "version": "3.10.5"
  },
  "orig_nbformat": 4,
  "vscode": {
   "interpreter": {
    "hash": "8d1b2c984ad473d756980598d6fae8279815dc9c89a9d51a262cfb04eba7ee8f"
   }
  }
 },
 "nbformat": 4,
 "nbformat_minor": 2
}
